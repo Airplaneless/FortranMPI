{
 "cells": [
  {
   "cell_type": "code",
   "execution_count": 1,
   "metadata": {},
   "outputs": [],
   "source": [
    "import time\n",
    "import os\n",
    "import pylab as plt\n",
    "import numpy as np\n",
    "from tqdm import tqdm\n",
    "%matplotlib inline"
   ]
  },
  {
   "cell_type": "code",
   "execution_count": 2,
   "metadata": {},
   "outputs": [],
   "source": [
    "def run(mesh_size, boundary_conditions, nproc):\n",
    "    formulation = \"{}\\n{}\\n{}\\n{}\\n{}\\n\".format(mesh_size, \n",
    "                                                    boundary_conditions[0], \n",
    "                                                    boundary_conditions[1], \n",
    "                                                    boundary_conditions[2], \n",
    "                                                    boundary_conditions[3])\n",
    "    with open('formulation', mode='w') as f:\n",
    "        f.writelines(formulation)\n",
    "    \n",
    "    os.system(\"mpif90 program.f90 -o solve\")\n",
    "    os.system(\"rm result\")\n",
    "    os.system(\"mpirun -np {} solve\".format(nproc))\n",
    "    return True"
   ]
  },
  {
   "cell_type": "code",
   "execution_count": 3,
   "metadata": {},
   "outputs": [],
   "source": [
    "def plot():\n",
    "    phi = list()\n",
    "    with open('result', mode='r') as f:\n",
    "        nx = int(f.readline().strip())\n",
    "        ny = int(f.readline().strip())\n",
    "        for line in f.readlines():\n",
    "            phi_str = line.strip().split(' ')\n",
    "            phi_ls = list()\n",
    "            for s in phi_str:\n",
    "                try:\n",
    "                    phi_ls.append(float(s))\n",
    "                except:\n",
    "                    pass\n",
    "            phi.append(phi_ls)\n",
    "    phi = np.array(phi)\n",
    "    plt.imshow(phi, cmap='hsv')\n",
    "    plt.colorbar()\n",
    "    plt.show()"
   ]
  },
  {
   "cell_type": "code",
   "execution_count": 4,
   "metadata": {},
   "outputs": [
    {
     "data": {
      "text/plain": [
       "True"
      ]
     },
     "execution_count": 4,
     "metadata": {},
     "output_type": "execute_result"
    }
   ],
   "source": [
    "run(60, [10,10,10,10], 2)"
   ]
  },
  {
   "cell_type": "code",
   "execution_count": 5,
   "metadata": {},
   "outputs": [
    {
     "data": {
      "image/png": "[encoded data removed]",
      "text/plain": [
       "<matplotlib.figure.Figure at 0x7f30eb4e5c50>"
      ]
     },
     "metadata": {},
     "output_type": "display_data"
    }
   ],
   "source": [
    "plot()"
   ]
  },
  {
   "cell_type": "code",
   "execution_count": 15,
   "metadata": {},
   "outputs": [],
   "source": [
    "times = list()\n",
    "nproc = np.arange(2, 20)"
   ]
  },
  {
   "cell_type": "code",
   "execution_count": 16,
   "metadata": {},
   "outputs": [
    {
     "name": "stderr",
     "output_type": "stream",
     "text": [
      "100%|██████████| 18/18 [09:12<00:00, 30.72s/it]\n"
     ]
    }
   ],
   "source": [
    "for n in tqdm(nproc):\n",
    "    start = time.time()\n",
    "    run(500, [10,-10,10,-10], n)\n",
    "    times.append(time.time() - start)"
   ]
  },
  {
   "cell_type": "code",
   "execution_count": 17,
   "metadata": {},
   "outputs": [],
   "source": [
    "import seaborn as sns"
   ]
  },
  {
   "cell_type": "code",
   "execution_count": 18,
   "metadata": {},
   "outputs": [
    {
     "data": {
      "text/plain": [
       "[<matplotlib.lines.Line2D at 0x7f30d7da6160>]"
      ]
     },
     "execution_count": 18,
     "metadata": {},
     "output_type": "execute_result"
    },
    {
     "data": {
      "image/png": "[encoded data removed]",
      "text/plain": [
       "<matplotlib.figure.Figure at 0x7f30d7d7a908>"
      ]
     },
     "metadata": {},
     "output_type": "display_data"
    }
   ],
   "source": [
    "plt.plot(nproc, times)"
   ]
  },
  {
   "cell_type": "code",
   "execution_count": null,
   "metadata": {},
   "outputs": [],
   "source": []
  }
 ],
 "metadata": {
  "kernelspec": {
   "display_name": "Python 3",
   "language": "python",
   "name": "python3"
  },
  "language_info": {
   "codemirror_mode": {
    "name": "ipython",
    "version": 3
   },
   "file_extension": ".py",
   "mimetype": "text/x-python",
   "name": "python",
   "nbconvert_exporter": "python",
   "pygments_lexer": "ipython3",
   "version": "3.5.3"
  }
 },
 "nbformat": 4,
 "nbformat_minor": 2
}
