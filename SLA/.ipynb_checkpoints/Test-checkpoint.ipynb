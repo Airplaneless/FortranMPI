{
 "cells": [
  {
   "cell_type": "code",
   "execution_count": 1,
   "metadata": {},
   "outputs": [],
   "source": [
    "import numpy as np\n",
    "import re"
   ]
  },
  {
   "cell_type": "code",
   "execution_count": 2,
   "metadata": {},
   "outputs": [],
   "source": [
    "B = list(); b = list()"
   ]
  },
  {
   "cell_type": "code",
   "execution_count": 3,
   "metadata": {},
   "outputs": [],
   "source": [
    "with open('Btest', mode='r') as f:\n",
    "    lines = f.readlines()"
   ]
  },
  {
   "cell_type": "code",
   "execution_count": 4,
   "metadata": {},
   "outputs": [],
   "source": [
    "def getLines(i):\n",
    "    return list(map(lambda s: float(s), re.sub(r'\\s\\s+', ' ', lines[i]).strip().split()))"
   ]
  },
  {
   "cell_type": "code",
   "execution_count": 5,
   "metadata": {},
   "outputs": [],
   "source": [
    "for i in range(1, len(lines)):\n",
    "    B.append((getLines(i)[:-1]))\n",
    "    b.append(getLines(i)[-1])"
   ]
  },
  {
   "cell_type": "code",
   "execution_count": 6,
   "metadata": {},
   "outputs": [],
   "source": [
    "B = np.matrix(B)"
   ]
  },
  {
   "cell_type": "code",
   "execution_count": 7,
   "metadata": {},
   "outputs": [],
   "source": [
    "b = np.matrix(b)"
   ]
  },
  {
   "cell_type": "code",
   "execution_count": 8,
   "metadata": {},
   "outputs": [],
   "source": [
    "for i in range(B.shape[0]):\n",
    "    for j in range(B.shape[1]):\n",
    "        B[i,j] = -B[i,j] / B[i,i] if i!=j else B[i,j]\n",
    "    b[0,i] = b[0,i] / B[i,i]\n",
    "    B[i,i] = 0."
   ]
  },
  {
   "cell_type": "code",
   "execution_count": 11,
   "metadata": {},
   "outputs": [
    {
     "name": "stdout",
     "output_type": "stream",
     "text": [
      "[[ 0.         -0.2        -0.3        -0.4         0.5         0.5       ]\n",
      " [-0.1         0.         -0.1        -0.6        -0.6        -0.1       ]\n",
      " [-0.01666667  0.05        0.          0.15       -0.01666667 -0.05      ]\n",
      " [ 0.00909091  0.08181818 -0.01818182  0.          0.00909091  0.00909091]\n",
      " [ 0.1        -0.1        -0.3        -0.3         0.          0.1       ]\n",
      " [ 0.1        -0.5        -0.5        -0.5        -0.5         0.        ]]\n"
     ]
    }
   ],
   "source": [
    "print(B)"
   ]
  },
  {
   "cell_type": "code",
   "execution_count": 27,
   "metadata": {},
   "outputs": [],
   "source": [
    "x = np.matrix(np.zeros(b.shape))"
   ]
  },
  {
   "cell_type": "code",
   "execution_count": 29,
   "metadata": {},
   "outputs": [
    {
     "name": "stdout",
     "output_type": "stream",
     "text": [
      "[[-7.25        0.31666667 -0.08333333 -0.15151515 -1.55        0.38333333]]\n"
     ]
    }
   ],
   "source": [
    "x = (B * x.T + b.T).T\n",
    "print(x)"
   ]
  },
  {
   "cell_type": "code",
   "execution_count": null,
   "metadata": {},
   "outputs": [],
   "source": []
  },
  {
   "cell_type": "code",
   "execution_count": null,
   "metadata": {},
   "outputs": [],
   "source": []
  }
 ],
 "metadata": {
  "kernelspec": {
   "display_name": "Python 3",
   "language": "python",
   "name": "python3"
  },
  "language_info": {
   "codemirror_mode": {
    "name": "ipython",
    "version": 3
   },
   "file_extension": ".py",
   "mimetype": "text/x-python",
   "name": "python",
   "nbconvert_exporter": "python",
   "pygments_lexer": "ipython3",
   "version": "3.5.3"
  }
 },
 "nbformat": 4,
 "nbformat_minor": 2
}
